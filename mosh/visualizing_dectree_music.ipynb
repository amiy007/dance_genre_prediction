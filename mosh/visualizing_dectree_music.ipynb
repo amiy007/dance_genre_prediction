{
 "cells": [
  {
   "cell_type": "code",
   "execution_count": 4,
   "metadata": {},
   "outputs": [],
   "source": [
    "import pandas as pd\n",
    "from sklearn.tree import DecisionTreeClassifier\n",
    "#tree object has method to visualize our decision tree into graphical format  \n",
    "from sklearn import tree\n",
    "music_data=pd.read_csv('music.csv')\n",
    "x=music_data.drop(columns=['genre'])\n",
    "y=music_data['genre']\n",
    "model=DecisionTreeClassifier()\n",
    "\n",
    "model.fit(x,y)\n",
    "tree.export_graphviz(model,out_file='music-recommender.dot',feature_names=['age','gender'],\n",
    "                     class_names=sorted(y.unique()),label='all',rounded=True,filled=True)"
   ]
  },
  {
   "cell_type": "code",
   "execution_count": null,
   "metadata": {},
   "outputs": [],
   "source": []
  }
 ],
 "metadata": {
  "kernelspec": {
   "display_name": "Python 3",
   "language": "python",
   "name": "python3"
  },
  "language_info": {
   "codemirror_mode": {
    "name": "ipython",
    "version": 3
   },
   "file_extension": ".py",
   "mimetype": "text/x-python",
   "name": "python",
   "nbconvert_exporter": "python",
   "pygments_lexer": "ipython3",
   "version": "3.7.0"
  }
 },
 "nbformat": 4,
 "nbformat_minor": 2
}
