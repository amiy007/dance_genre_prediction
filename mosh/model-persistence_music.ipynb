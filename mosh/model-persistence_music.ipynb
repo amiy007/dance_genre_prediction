{
 "cells": [
  {
   "cell_type": "code",
   "execution_count": 6,
   "metadata": {},
   "outputs": [
    {
     "data": {
      "text/plain": [
       "array(['HipHop', 'Dance'], dtype=object)"
      ]
     },
     "execution_count": 6,
     "metadata": {},
     "output_type": "execute_result"
    }
   ],
   "source": [
    "#in real life we have dataset with million of samples training of model for that may be time comsuming\n",
    "#so time persistence is required i.e. we train our model and save it to a file and then we simply need \n",
    "#to load our model and make predictions without training model again and again  it behaves like an intelligent person\n",
    "\n",
    "import pandas as pd\n",
    "from sklearn.tree import DecisionTreeClassifier\n",
    "from sklearn.externals import joblib\n",
    "# music_data=pd.read_csv('music.csv')\n",
    "# x=music_data.drop(columns=['genre'])\n",
    "# y=music_data['genre']\n",
    "# model=DecisionTreeClassifier()\n",
    "# model.fit(x,y)\n",
    "#music-recommender.joblib is name of file in which we want to save our trained model for further use\n",
    "# joblib.dump(model,'music-recommender.joblib')\n",
    "#we don't train our model again and again we just load it as shown below\n",
    "model=joblib.load('music-recommender.joblib')\n",
    "predictions=model.predict([[21,1],[24,0]])\n",
    "predictions\n"
   ]
  }
 ],
 "metadata": {
  "kernelspec": {
   "display_name": "Python 3",
   "language": "python",
   "name": "python3"
  },
  "language_info": {
   "codemirror_mode": {
    "name": "ipython",
    "version": 3
   },
   "file_extension": ".py",
   "mimetype": "text/x-python",
   "name": "python",
   "nbconvert_exporter": "python",
   "pygments_lexer": "ipython3",
   "version": "3.7.0"
  }
 },
 "nbformat": 4,
 "nbformat_minor": 2
}
